{
 "cells": [
  {
   "cell_type": "markdown",
   "metadata": {},
   "source": [
    "#### external libs"
   ]
  },
  {
   "cell_type": "code",
   "execution_count": null,
   "metadata": {
    "ExecuteTime": {
     "end_time": "2022-02-25T21:47:30.434043Z",
     "start_time": "2022-02-25T21:47:30.426128Z"
    }
   },
   "outputs": [],
   "source": [
    "# libs\n",
    "import os\n",
    "import sys\n",
    "import pickle as pk\n",
    "from datetime import datetime, timedelta\n",
    "import json\n",
    "import pandas as pd\n",
    "import numpy as np\n",
    "\n",
    "sys.path.insert(0, \"../\")\n",
    "\n",
    "from autotrend.util import (get_df_from_yf_historic_data_dump, \n",
    "                            estimate_volatility, \n",
    "                            linear_model_pred, \n",
    "                            draw_trendlines)\n",
    "from autotrend.adaptive import trendlines_adaptive\n",
    "from autotrend.batch import (find_best_num_lines, \n",
    "                             fit_pwl_model,\n",
    "                             get_lines_boundries)\n",
    "\n",
    "#\n",
    "%config IPCompleter.greedy=True\n",
    "%matplotlib inline\n",
    "\n",
    "# \n",
    "from IPython.core.display import display, HTML\n",
    "display(HTML(\"<style>.container { width:100% !important; }</style>\"))"
   ]
  },
  {
   "cell_type": "code",
   "execution_count": 2,
   "metadata": {},
   "outputs": [],
   "source": [
    "#\n",
    "def get_draw_trendlines_adaptive(data,\n",
    "                                 price_column='adjclose',\n",
    "                                 last_ind=0,\n",
    "                                 incr=1,\n",
    "                                 min_break_len=14,\n",
    "                                 min_points=60,\n",
    "                                 mv_ave_window=24,\n",
    "                                 symmetric=True,\n",
    "                                 alpha=0.5,\n",
    "                                 title=''):\n",
    "\n",
    "    ts, prices = list(data.index), list(data[price_column])\n",
    "    x, y = list(range(len(ts))), prices\n",
    "\n",
    "    range_estimate = estimate_volatility(\n",
    "        y=prices[:min_points], mv_ave_window=mv_ave_window)\n",
    "\n",
    "    splits, slopes_intercepts, biases = trendlines_adaptive(y=y,\n",
    "                                                            last_ind=last_ind,\n",
    "                                                            incr=incr,\n",
    "                                                            min_break_len=min_break_len,\n",
    "                                                            symmetric=symmetric,\n",
    "                                                            max_range=range_estimate,\n",
    "                                                            min_points=min_points,\n",
    "                                                            alpha=alpha)\n",
    "\n",
    "    lines, lower_lines, upper_lines = [], [], []\n",
    "\n",
    "    i = 0\n",
    "    for j, (a, b), (bias_lower, bias_upper) in zip(splits[1:], slopes_intercepts, biases):\n",
    "        x = list(range(i, j))\n",
    "        lines.append((x, [linear_model_pred(k-i, a, b) for k in range(i, j)]))\n",
    "        lower_lines.append(\n",
    "            (x, [linear_model_pred(k-i, a, b - bias_lower) for k in range(i, j)]))\n",
    "        upper_lines.append(\n",
    "            (x, [linear_model_pred(k-i, a, b + bias_upper) for k in range(i, j)]))\n",
    "        i = j\n",
    "\n",
    "    draw_trendlines(ts, prices, lines, lower_lines, upper_lines, title=title)\n",
    "\n",
    "    return splits, slopes_intercepts, lines, lower_lines, upper_lines\n",
    "\n",
    "\n",
    "def get_draw_trendlines_batch(data,\n",
    "                              price_column='adjclose',\n",
    "                              min_split_len=10,\n",
    "                              min_num_lines=1,\n",
    "                              max_num_lines=30,\n",
    "                              mv_ave_window=24,\n",
    "                              title=''):\n",
    "\n",
    "    ts, prices = list(data.index), list(data[price_column])\n",
    "    x, y = list(range(len(ts))), prices\n",
    "\n",
    "    optimums, best_num_lines = find_best_num_lines(x,\n",
    "                                                   y,\n",
    "                                                   min_split_len,\n",
    "                                                   min_num_lines,\n",
    "                                                   max_num_lines,\n",
    "                                                   mv_ave_window)\n",
    "\n",
    "    optimum_d = [d for d in optimums if d[\"num_lines\"] == best_num_lines][0]\n",
    "    optimum = optimum_d['optimum']\n",
    "\n",
    "    splits = x[:1] + optimum.x.tolist()\n",
    "    splits.sort()\n",
    "\n",
    "    params, A, ssr = fit_pwl_model(x, y, splits)\n",
    "    y_hat = np.matmul(A, params)\n",
    "    lines, lower_lines, upper_lines = get_lines_boundries(x, \n",
    "                                                          y_hat, \n",
    "                                                          prices, \n",
    "                                                          splits, \n",
    "                                                          issorted=True)\n",
    "\n",
    "    draw_trendlines(ts, prices, lines, lower_lines, upper_lines, title=title)\n",
    "\n",
    "    return splits, optimum_d, lines, lower_lines, upper_lines\n"
   ]
  },
  {
   "cell_type": "code",
   "execution_count": null,
   "metadata": {},
   "outputs": [],
   "source": [
    "# get data dump from Yahoo Finance API\n",
    "interval = \"1d\"\n",
    "days = 5 * 365\n",
    "today = datetime.today()\n",
    "today_ts = int(today.timestamp())\n",
    "start_ts = int((today - timedelta(days=days)).timestamp())\n",
    "\n",
    "tickers = 'GE AAPL MSFT'.split()\n",
    "tickers_file = '../resources/tickers.txt'\n",
    "open(tickers_file, 'w').writelines(\"\\n\".join(tickers))\n",
    "os.system(f\"bash ../scripts/bash/get_historic_data.sh {tickers_file} {start_ts} {today_ts} {interval} ../resources/\")\n",
    "\n",
    "\n",
    "dfs_prices = {}\n",
    "for ticker in tickers:\n",
    "    dump = json.load(open(f\"/tmp/{ticker}\"))\n",
    "    dfs_prices[ticker] = get_df_from_yf_historic_data_dump(dump)\n"
   ]
  },
  {
   "cell_type": "code",
   "execution_count": null,
   "metadata": {
    "pycharm": {
     "name": "#%%\n"
    }
   },
   "outputs": [],
   "source": [
    "for ticker in tickers:\n",
    "    data = dfs_prices[ticker]\n",
    "    splits, slopes_intercepts, lines, lower_lines, upper_lines = get_draw_trendlines_adaptive(data,\n",
    "                                                                                              price_column='adjclose',\n",
    "                                                                                              last_ind=0,\n",
    "                                                                                              incr=1,\n",
    "                                                                                              min_break_len=14,\n",
    "                                                                                              min_points=60,\n",
    "                                                                                              mv_ave_window=100,\n",
    "                                                                                              symmetric=True,\n",
    "                                                                                              alpha=0.5,\n",
    "                                                                                              title=f\"{ticker} (adaptive)\")\n"
   ]
  }
 ],
 "metadata": {
  "hide_input": false,
  "kernelspec": {
   "display_name": "Python 3 (ipykernel)",
   "language": "python",
   "name": "python3"
  },
  "language_info": {
   "codemirror_mode": {
    "name": "ipython",
    "version": 3
   },
   "file_extension": ".py",
   "mimetype": "text/x-python",
   "name": "python",
   "nbconvert_exporter": "python",
   "pygments_lexer": "ipython3",
   "version": "3.10.9"
  },
  "toc": {
   "base_numbering": 1,
   "nav_menu": {},
   "number_sections": true,
   "sideBar": true,
   "skip_h1_title": false,
   "title_cell": "Table of Contents",
   "title_sidebar": "Contents",
   "toc_cell": false,
   "toc_position": {},
   "toc_section_display": true,
   "toc_window_display": false
  },
  "varInspector": {
   "cols": {
    "lenName": 16,
    "lenType": 16,
    "lenVar": 40
   },
   "kernels_config": {
    "python": {
     "delete_cmd_postfix": "",
     "delete_cmd_prefix": "del ",
     "library": "var_list.py",
     "varRefreshCmd": "print(var_dic_list())"
    },
    "r": {
     "delete_cmd_postfix": ") ",
     "delete_cmd_prefix": "rm(",
     "library": "var_list.r",
     "varRefreshCmd": "cat(var_dic_list()) "
    }
   },
   "types_to_exclude": [
    "module",
    "function",
    "builtin_function_or_method",
    "instance",
    "_Feature"
   ],
   "window_display": false
  }
 },
 "nbformat": 4,
 "nbformat_minor": 4
}
